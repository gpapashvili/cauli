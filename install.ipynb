{
 "cells": [
  {
   "cell_type": "markdown",
   "id": "87f8e7ca-45ea-4af4-ba17-f73d7cc72810",
   "metadata": {},
   "source": [
    "## Instruction how to deploy juvelery management and production system\n",
    "* https://www.digitalocean.com/community/tutorials/how-to-set-up-django-with-postgres-nginx-and-gunicorn-on-ubuntu#step-2-creating-the-postgresql-database-and-user - main source\n",
    "* OS - debian bookworm server\n",
    "* database - postgresql\n",
    "* Web framework - django\n",
    "* Web server - nginx\n",
    "* WSGI HTTP Server - gunicorn\n",
    "* other tools - pandas, sqlalchemy"
   ]
  },
  {
   "cell_type": "markdown",
   "id": "09181ec9-ab26-4235-9d9e-6bfc401bba90",
   "metadata": {},
   "source": [
    "## Install postgresql\n",
    "* https://wiki.debian.org/PostgreSql - source\n",
    "* `sudo apt update` - update rep\n",
    "* `sudo apt upgrade` - update system\n",
    "* `sudo apt install postgresql postgresql-client postgresql-contrib libpq-dev` - install postgresql\n",
    "* `sudo systemctl status postgresql.service` - check if service is running"
   ]
  },
  {
   "cell_type": "markdown",
   "id": "0b00e564-c730-4943-930f-6a1ffbf845f5",
   "metadata": {},
   "source": [
    "## Configure database\n",
    "* https://hostman.com/tutorials/installing-postgresql-on-debian/ - source\n",
    "* `pip install pandas SQLAlchemy` - install needed python packages\n",
    "* `sudo -u postgres psql` - run psql as an user postgres\n",
    "* `CREATE DATABASE db_name;` - create database\n",
    "* `CREATE USER admin WITH PASSWORD '12345';` - create admin role\n",
    "* `ALTER ROLE user WITH LOGIN` - give user login permission if you use ROLE instead of USER during creation\n",
    "* `ALTER DATABASE db_name OWNER TO admin;`\n",
    "* add port 5432 to firewall\n",
    "* `sudo nano /etc/postgresql/15/main/postgresql.conf` - edit config file to connect to postgresql from network\n",
    "* `listen_addresses = '*'` - add/change this line (you don't need this if you will not conect to db from remote pc)\n",
    "* `sudo nano /etc/postgresql/15/main/pg_hba.conf` - edit conncetion config file and add following line, put your IP (you don't need this if you will not conect to db from remote pc)\n",
    "* `host   db_name   all   IP  scram-sha-256`\n",
    "* `sudo systemctl status postgresql` - restart database\n",
    "* `nmap 192.168.1.1 -p5432` - to check that port is open (change ip and port)"
   ]
  },
  {
   "cell_type": "markdown",
   "id": "8e8d99e7-dd1b-4be0-939b-8b0dafa43d67",
   "metadata": {},
   "source": [
    "## Create tables and other database objects\n",
    "Refer to  database.ipynb notebook"
   ]
  },
  {
   "cell_type": "markdown",
   "id": "521205a3-7fe8-4b66-a8ed-919c097bd234",
   "metadata": {},
   "source": [
    "## Create Python Virtual Environment\n",
    "* `mkdir ~/projects` - project direcotry\n",
    "* `cd ~/projects`\n",
    "* `sudo apt install python3-venv python3-dev`\n",
    "* `python3 -m venv projectenv` - create environment\n",
    "* `source projectenv/bin/activate` - activate environment"
   ]
  },
  {
   "cell_type": "markdown",
   "id": "a3ceb5fc-c3c7-45e1-98af-eb78ee8a99e3",
   "metadata": {},
   "source": [
    "## Creating and Configuring a New Django Project\n",
    "* `pip install django gunicorn psycopg2-binary cryptography python-dotenv SQLalchemy Pillow pandas` - install needed python packages\n",
    "* `django-admin startproject project ~/projects` - create new project\n",
    "* A Django project management script will be in this dir `~/projects/manage.py`\n",
    "* project dir will be `~/projects/project/`\n",
    "* generate `SECRET_KEY` using `from django.core.management.utils import get_random_secret_key` and `print(get_random_secret_key())`\n",
    "* `nano ~/projects/.env` - create .env file and enter following info\n",
    "    * ```\n",
    "      SECRET_KEY=sssseeeeccccrrrreeeettttkkkkkeeeeyyyyyyy\n",
    "      DEBUG=False\n",
    "      DATABASE_NAME=db_name\n",
    "      DATABASE_USER=admin\n",
    "      DATABASE_PASSWORD=123456\n",
    "      DATABASE_HOST=127.0.0.1\n",
    "      DATABASE_PORT=5432\n",
    "      ENCRYPTION_KEY=sssseeeeccccrrrreeeettttkkkkkeeeeyyyyyyy\n",
    "      ```\n",
    "* `chmod go-rwx .env` - leave only user access\n",
    "* `nano ~/projects/project/settings.py` - change settings\n",
    "    * ```\n",
    "      # add/change settings\n",
    "      import os\n",
    "      from dotenv import load_dotenv\n",
    "      # load .env\n",
    "      load_dotenv()\n",
    "\n",
    "      SECRET_KEY = os.getenv('SECRET_KEY')\n",
    "\n",
    "      DEBUG = os.environ.get('DEBUG')\n",
    "\n",
    "      # servers IP instead of `IP`\n",
    "      ALLOWED_HOSTS = ['127.0.0.1', 'IP', 'localhost']\n",
    "\n",
    "      DATABASES = {\n",
    "            'default': {\n",
    "                'ENGINE': 'django.db.backends.postgresql_psycopg2',\n",
    "                'NAME': os.environ.get('DATABASE_NAME'),\n",
    "                'USER': os.environ.get('DATABASE_USER'),\n",
    "                'PASSWORD': os.environ.get('DATABASE_PASSWORD'),\n",
    "                'HOST': os.environ.get('DATABASE_HOST'),\n",
    "                'PORT': os.environ.get('DATABASE_PORT'),\n",
    "            }\n",
    "          }\n",
    "\n",
    "      # according to your location\n",
    "      TIME_ZONE = 'Asia/Tbilisi'\n",
    "\n",
    "      MEDIA_ROOT = os.path.join(BASE_DIR, 'media/')\n",
    "      MEDIA_URL = 'media/'\n",
    "      STATIC_ROOT = os.path.join(BASE_DIR, 'static/')\n",
    "      STATIC_URL = 'static/'\n",
    "      ```\n",
    "    * `mkdir static media`\n",
    "    * `./manage.py makemigrations`\n",
    "    * `./manage.py migrate` - migrate the initial database schema to our PostgreSQL database \n",
    "    * `./manage.py createsuperuser` - Create an administrative user\n",
    "    * `./manage.py collectstatic` - collect all of the static content into the directory static\n",
    "    * allow 8000 port in firewall\n",
    "    * `./manage.py runserver 0.0.0.0:8000` - test server"
   ]
  },
  {
   "cell_type": "markdown",
   "id": "4b35ae70-269f-4a53-abe2-af8ecda564e5",
   "metadata": {},
   "source": [
    "## Testing Gunicorn\n",
    "* `cd ~/projects` - go to projects dir\n",
    "* `gunicorn --bind 0.0.0.0:8000 project.wsgi` - starts app, you should be able to open web page"
   ]
  },
  {
   "cell_type": "markdown",
   "id": "5cdd4f86-10bf-4229-be42-74a4a54f6d5b",
   "metadata": {},
   "source": [
    "## Configure systemd for Gunicorn\n",
    "* `sudo nano /etc/systemd/system/gunicorn.socket` - create a systemd socket with following content\n",
    "* ```\n",
    "    [Unit]\n",
    "    Description=gunicorn socket\n",
    "    \n",
    "    [Socket]\n",
    "    ListenStream=/run/gunicorn.sock\n",
    "    \n",
    "    [Install]\n",
    "    WantedBy=sockets.target\n",
    "  ```\n",
    "* `sudo nano /etc/systemd/system/gunicorn.service` - create systemd service file with following content\n",
    "* ```\n",
    "    [Unit]\n",
    "    Description=gunicorn daemon\n",
    "    Requires=gunicorn.socket\n",
    "    After=network.target\n",
    "\n",
    "    [Service]\n",
    "    User=username\n",
    "    Group=www-data\n",
    "    WorkingDirectory=/home/username/projects\n",
    "    ExecStart=/home/username/projects/projectenv/bin/gunicorn \\\n",
    "              --access-logfile - \\\n",
    "              --workers 3 \\\n",
    "              --bind unix:/run/gunicorn.sock \\\n",
    "              project.wsgi:application\n",
    "\n",
    "    [Install]\n",
    "    WantedBy=multi-user.target  \n",
    "  ```\n",
    "* `sudo systemctl start gunicorn.socket`\n",
    "* `sudo systemctl enable gunicorn.socket`\n",
    "* `sudo systemctl status gunicorn.socket` - check if socket is running\n",
    "* `file /run/gunicorn.sock` - check socket is there\n",
    "* `sudo journalctl -u gunicorn.socket` - check any logs, errors\n",
    "* `curl --unix-socket /run/gunicorn.sock localhost` - send a connection to the socket through curl will activate gunicorn.serivece\n",
    "* `sudo systemctl status gunicorn.service` - will show that service is active\n",
    "* `sudo journalctl -u gunicorn` - check logs for details and errors\n",
    "* `sudo systemctl daemon-reload` - reload daemon if you will change `/etc/systemd/system/gunicorn.service` file\n",
    "* `sudo systemctl restart gunicorn`"
   ]
  },
  {
   "cell_type": "markdown",
   "id": "105d4dda-393f-48c7-b11a-23cce4fc82c5",
   "metadata": {},
   "source": [
    "## Configure Nginx https\n",
    "* `sudo apt install nginx curl`\n",
    "* `sudo nano /etc/nginx/sites-available/cauli` - create new server block with following contents\n",
    "* ```\n",
    "    server {\n",
    "        listen 8000 default_server http2 ssl deferred;\n",
    "        server_name 192.168.192.10;\n",
    "        ssl_certificate /path/to/ssl/certs/file.crt;\n",
    "        ssl_certificate_key /path/to/ssl/private/file.key;\n",
    "\n",
    "        server_name 192.168.1.1;\n",
    "    \n",
    "        location = /favicon.ico { access_log off; log_not_found off; }\n",
    "        location /static/ {\n",
    "            root /home/username/projects;\n",
    "        }\n",
    "    \n",
    "        location / {\n",
    "            include proxy_params;\n",
    "            proxy_pass http://unix:/run/gunicorn.sock;\n",
    "        }\n",
    "    }  \n",
    "  ```\n",
    "* `sudo ln -s /etc/nginx/sites-available/cauli /etc/nginx/sites-enabled/` - enable site\n",
    "* `sudo nginx -t` - test for syntax errors\n",
    "* `sudo systemctl restart nginx`\n",
    "* static fails may not work if you have static folder under user dir and www-data can not access it, change project location or only static folder location to /var/www/\n",
    "* `namei -l /home/username/projectlocation` - check permissions of dir tree"
   ]
  },
  {
   "cell_type": "markdown",
   "id": "3973cf0c-1ee9-4a0a-b360-46493a4e57bc",
   "metadata": {},
   "source": [
    "## Create ERP App\n",
    "* `./manage.py startapp erp` - create app in project folder\n",
    "* update settings.py\n",
    "    * add `'erp',` to `INSTALLED_APPS`\n",
    "    * add `'erp.full_auth_middleware.FullAuthMiddleware',` to `MIDDLEWARE` for automatic redirection to ligin page if not authorized. later add full_auth_middleware.py to app folder\n",
    "* update urls.py\n",
    "    * `from django.urls import include, path`\n",
    "    * `from django.contrib import admin`\n",
    "    * `path('', include('erp.urls')),` - add urls.py in erp folder\n",
    "* `sudo systemctl restart gunicorn.service` - restart gunicorn each time you will update app"
   ]
  },
  {
   "cell_type": "markdown",
   "id": "a3d819f9-419c-42f2-aeca-f135a7db6881",
   "metadata": {},
   "source": [
    "## Create db Tables\n",
    "Refer to database.ipynb notebook"
   ]
  },
  {
   "cell_type": "markdown",
   "id": "8e770f6a-3491-4bb4-9ccd-1d01c6860d22",
   "metadata": {},
   "source": [
    "## Importing models from database\n",
    "* `./manage.py inspectdb > erp/models.py`\n",
    "* imported models need modification (see models.py for details)\n",
    "* models should be registered in admin.py to be able to manage from admin/ built in interface"
   ]
  }
 ],
 "metadata": {
  "kernelspec": {
   "display_name": "Python 3 (ipykernel)",
   "language": "python",
   "name": "python3"
  },
  "language_info": {
   "codemirror_mode": {
    "name": "ipython",
    "version": 3
   },
   "file_extension": ".py",
   "mimetype": "text/x-python",
   "name": "python",
   "nbconvert_exporter": "python",
   "pygments_lexer": "ipython3",
   "version": "3.12.9"
  }
 },
 "nbformat": 4,
 "nbformat_minor": 5
}
